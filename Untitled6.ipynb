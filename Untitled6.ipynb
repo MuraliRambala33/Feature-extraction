{
 "cells": [
  {
   "cell_type": "code",
   "execution_count": 1,
   "metadata": {},
   "outputs": [],
   "source": [
    "import pandas as pd"
   ]
  },
  {
   "cell_type": "code",
   "execution_count": 2,
   "metadata": {},
   "outputs": [],
   "source": [
    "df_pre_process = pd.read_excel(r'C:\\Users\\mural\\Desktop\\Jaivinayaka\\pre_processes.xlsx')"
   ]
  },
  {
   "cell_type": "code",
   "execution_count": 4,
   "metadata": {},
   "outputs": [
    {
     "data": {
      "text/html": [
       "<div>\n",
       "<style scoped>\n",
       "    .dataframe tbody tr th:only-of-type {\n",
       "        vertical-align: middle;\n",
       "    }\n",
       "\n",
       "    .dataframe tbody tr th {\n",
       "        vertical-align: top;\n",
       "    }\n",
       "\n",
       "    .dataframe thead th {\n",
       "        text-align: right;\n",
       "    }\n",
       "</style>\n",
       "<table border=\"1\" class=\"dataframe\">\n",
       "  <thead>\n",
       "    <tr style=\"text-align: right;\">\n",
       "      <th></th>\n",
       "      <th>Unnamed: 0</th>\n",
       "      <th>Federal government</th>\n",
       "      <th>Local government</th>\n",
       "      <th>Never worked</th>\n",
       "      <th>Not in universe</th>\n",
       "      <th>Private</th>\n",
       "      <th>Self-employed-incorporated</th>\n",
       "      <th>Self-employed-not incorporated</th>\n",
       "      <th>State government</th>\n",
       "      <th>Without pay</th>\n",
       "      <th>...</th>\n",
       "      <th>family_members_under_18_Father only present</th>\n",
       "      <th>family_members_under_18_Mother only present</th>\n",
       "      <th>family_members_under_18_Neither parent present</th>\n",
       "      <th>family_members_under_18_Not in universe</th>\n",
       "      <th>citizenship_Foreign born- U S citizen by naturalization</th>\n",
       "      <th>citizenship_Native- Born abroad of American Parent(s)</th>\n",
       "      <th>citizenship_Native- Born in Puerto Rico or U S Outlying</th>\n",
       "      <th>citizenship_Native- Born in the United States</th>\n",
       "      <th>fill_questionnaire_veteran_admin_Not in universe</th>\n",
       "      <th>fill_questionnaire_veteran_admin_Yes</th>\n",
       "    </tr>\n",
       "  </thead>\n",
       "  <tbody>\n",
       "    <tr>\n",
       "      <th>0</th>\n",
       "      <td>0</td>\n",
       "      <td>0</td>\n",
       "      <td>0</td>\n",
       "      <td>0</td>\n",
       "      <td>1</td>\n",
       "      <td>0</td>\n",
       "      <td>0</td>\n",
       "      <td>0</td>\n",
       "      <td>0</td>\n",
       "      <td>0</td>\n",
       "      <td>...</td>\n",
       "      <td>0</td>\n",
       "      <td>0</td>\n",
       "      <td>0</td>\n",
       "      <td>1</td>\n",
       "      <td>0</td>\n",
       "      <td>0</td>\n",
       "      <td>0</td>\n",
       "      <td>1</td>\n",
       "      <td>1</td>\n",
       "      <td>0</td>\n",
       "    </tr>\n",
       "    <tr>\n",
       "      <th>1</th>\n",
       "      <td>1</td>\n",
       "      <td>0</td>\n",
       "      <td>0</td>\n",
       "      <td>0</td>\n",
       "      <td>0</td>\n",
       "      <td>0</td>\n",
       "      <td>0</td>\n",
       "      <td>1</td>\n",
       "      <td>0</td>\n",
       "      <td>0</td>\n",
       "      <td>...</td>\n",
       "      <td>0</td>\n",
       "      <td>0</td>\n",
       "      <td>0</td>\n",
       "      <td>1</td>\n",
       "      <td>0</td>\n",
       "      <td>0</td>\n",
       "      <td>0</td>\n",
       "      <td>1</td>\n",
       "      <td>1</td>\n",
       "      <td>0</td>\n",
       "    </tr>\n",
       "    <tr>\n",
       "      <th>2</th>\n",
       "      <td>2</td>\n",
       "      <td>0</td>\n",
       "      <td>0</td>\n",
       "      <td>0</td>\n",
       "      <td>1</td>\n",
       "      <td>0</td>\n",
       "      <td>0</td>\n",
       "      <td>0</td>\n",
       "      <td>0</td>\n",
       "      <td>0</td>\n",
       "      <td>...</td>\n",
       "      <td>0</td>\n",
       "      <td>0</td>\n",
       "      <td>0</td>\n",
       "      <td>1</td>\n",
       "      <td>0</td>\n",
       "      <td>0</td>\n",
       "      <td>0</td>\n",
       "      <td>0</td>\n",
       "      <td>1</td>\n",
       "      <td>0</td>\n",
       "    </tr>\n",
       "    <tr>\n",
       "      <th>3</th>\n",
       "      <td>3</td>\n",
       "      <td>0</td>\n",
       "      <td>0</td>\n",
       "      <td>0</td>\n",
       "      <td>1</td>\n",
       "      <td>0</td>\n",
       "      <td>0</td>\n",
       "      <td>0</td>\n",
       "      <td>0</td>\n",
       "      <td>0</td>\n",
       "      <td>...</td>\n",
       "      <td>0</td>\n",
       "      <td>0</td>\n",
       "      <td>0</td>\n",
       "      <td>0</td>\n",
       "      <td>0</td>\n",
       "      <td>0</td>\n",
       "      <td>0</td>\n",
       "      <td>1</td>\n",
       "      <td>1</td>\n",
       "      <td>0</td>\n",
       "    </tr>\n",
       "    <tr>\n",
       "      <th>4</th>\n",
       "      <td>4</td>\n",
       "      <td>0</td>\n",
       "      <td>0</td>\n",
       "      <td>0</td>\n",
       "      <td>1</td>\n",
       "      <td>0</td>\n",
       "      <td>0</td>\n",
       "      <td>0</td>\n",
       "      <td>0</td>\n",
       "      <td>0</td>\n",
       "      <td>...</td>\n",
       "      <td>0</td>\n",
       "      <td>0</td>\n",
       "      <td>0</td>\n",
       "      <td>0</td>\n",
       "      <td>0</td>\n",
       "      <td>0</td>\n",
       "      <td>0</td>\n",
       "      <td>1</td>\n",
       "      <td>1</td>\n",
       "      <td>0</td>\n",
       "    </tr>\n",
       "  </tbody>\n",
       "</table>\n",
       "<p>5 rows × 113 columns</p>\n",
       "</div>"
      ],
      "text/plain": [
       "   Unnamed: 0  Federal government  Local government  Never worked  \\\n",
       "0           0                   0                 0             0   \n",
       "1           1                   0                 0             0   \n",
       "2           2                   0                 0             0   \n",
       "3           3                   0                 0             0   \n",
       "4           4                   0                 0             0   \n",
       "\n",
       "   Not in universe  Private  Self-employed-incorporated  \\\n",
       "0                1        0                           0   \n",
       "1                0        0                           0   \n",
       "2                1        0                           0   \n",
       "3                1        0                           0   \n",
       "4                1        0                           0   \n",
       "\n",
       "   Self-employed-not incorporated  State government  Without pay  ...  \\\n",
       "0                               0                 0            0  ...   \n",
       "1                               1                 0            0  ...   \n",
       "2                               0                 0            0  ...   \n",
       "3                               0                 0            0  ...   \n",
       "4                               0                 0            0  ...   \n",
       "\n",
       "   family_members_under_18_Father only present  \\\n",
       "0                                            0   \n",
       "1                                            0   \n",
       "2                                            0   \n",
       "3                                            0   \n",
       "4                                            0   \n",
       "\n",
       "   family_members_under_18_Mother only present  \\\n",
       "0                                            0   \n",
       "1                                            0   \n",
       "2                                            0   \n",
       "3                                            0   \n",
       "4                                            0   \n",
       "\n",
       "   family_members_under_18_Neither parent present  \\\n",
       "0                                               0   \n",
       "1                                               0   \n",
       "2                                               0   \n",
       "3                                               0   \n",
       "4                                               0   \n",
       "\n",
       "   family_members_under_18_Not in universe  \\\n",
       "0                                        1   \n",
       "1                                        1   \n",
       "2                                        1   \n",
       "3                                        0   \n",
       "4                                        0   \n",
       "\n",
       "   citizenship_Foreign born- U S citizen by naturalization  \\\n",
       "0                                                  0         \n",
       "1                                                  0         \n",
       "2                                                  0         \n",
       "3                                                  0         \n",
       "4                                                  0         \n",
       "\n",
       "   citizenship_Native- Born abroad of American Parent(s)  \\\n",
       "0                                                  0       \n",
       "1                                                  0       \n",
       "2                                                  0       \n",
       "3                                                  0       \n",
       "4                                                  0       \n",
       "\n",
       "   citizenship_Native- Born in Puerto Rico or U S Outlying  \\\n",
       "0                                                  0         \n",
       "1                                                  0         \n",
       "2                                                  0         \n",
       "3                                                  0         \n",
       "4                                                  0         \n",
       "\n",
       "   citizenship_Native- Born in the United States  \\\n",
       "0                                              1   \n",
       "1                                              1   \n",
       "2                                              0   \n",
       "3                                              1   \n",
       "4                                              1   \n",
       "\n",
       "   fill_questionnaire_veteran_admin_Not in universe  \\\n",
       "0                                                 1   \n",
       "1                                                 1   \n",
       "2                                                 1   \n",
       "3                                                 1   \n",
       "4                                                 1   \n",
       "\n",
       "   fill_questionnaire_veteran_admin_Yes  \n",
       "0                                     0  \n",
       "1                                     0  \n",
       "2                                     0  \n",
       "3                                     0  \n",
       "4                                     0  \n",
       "\n",
       "[5 rows x 113 columns]"
      ]
     },
     "execution_count": 4,
     "metadata": {},
     "output_type": "execute_result"
    }
   ],
   "source": [
    "df_pre_process.head()"
   ]
  },
  {
   "cell_type": "code",
   "execution_count": 6,
   "metadata": {},
   "outputs": [
    {
     "data": {
      "text/plain": [
       "(199523, 113)"
      ]
     },
     "execution_count": 6,
     "metadata": {},
     "output_type": "execute_result"
    }
   ],
   "source": [
    "df_pre_process.shape"
   ]
  },
  {
   "cell_type": "code",
   "execution_count": 8,
   "metadata": {},
   "outputs": [
    {
     "data": {
      "text/html": [
       "<div>\n",
       "<style scoped>\n",
       "    .dataframe tbody tr th:only-of-type {\n",
       "        vertical-align: middle;\n",
       "    }\n",
       "\n",
       "    .dataframe tbody tr th {\n",
       "        vertical-align: top;\n",
       "    }\n",
       "\n",
       "    .dataframe thead th {\n",
       "        text-align: right;\n",
       "    }\n",
       "</style>\n",
       "<table border=\"1\" class=\"dataframe\">\n",
       "  <thead>\n",
       "    <tr style=\"text-align: right;\">\n",
       "      <th></th>\n",
       "      <th>Unnamed: 0</th>\n",
       "      <th>Federal government</th>\n",
       "      <th>Local government</th>\n",
       "      <th>Never worked</th>\n",
       "      <th>Not in universe</th>\n",
       "      <th>Private</th>\n",
       "      <th>Self-employed-incorporated</th>\n",
       "      <th>Self-employed-not incorporated</th>\n",
       "      <th>State government</th>\n",
       "      <th>Without pay</th>\n",
       "      <th>...</th>\n",
       "      <th>family_members_under_18_Father only present</th>\n",
       "      <th>family_members_under_18_Mother only present</th>\n",
       "      <th>family_members_under_18_Neither parent present</th>\n",
       "      <th>family_members_under_18_Not in universe</th>\n",
       "      <th>citizenship_Foreign born- U S citizen by naturalization</th>\n",
       "      <th>citizenship_Native- Born abroad of American Parent(s)</th>\n",
       "      <th>citizenship_Native- Born in Puerto Rico or U S Outlying</th>\n",
       "      <th>citizenship_Native- Born in the United States</th>\n",
       "      <th>fill_questionnaire_veteran_admin_Not in universe</th>\n",
       "      <th>fill_questionnaire_veteran_admin_Yes</th>\n",
       "    </tr>\n",
       "  </thead>\n",
       "  <tbody>\n",
       "    <tr>\n",
       "      <th>count</th>\n",
       "      <td>199523.000000</td>\n",
       "      <td>199523.000000</td>\n",
       "      <td>199523.000000</td>\n",
       "      <td>199523.000000</td>\n",
       "      <td>199523.000000</td>\n",
       "      <td>199523.000000</td>\n",
       "      <td>199523.000000</td>\n",
       "      <td>199523.000000</td>\n",
       "      <td>199523.000000</td>\n",
       "      <td>199523.000000</td>\n",
       "      <td>...</td>\n",
       "      <td>199523.000000</td>\n",
       "      <td>199523.000000</td>\n",
       "      <td>199523.000000</td>\n",
       "      <td>199523.000000</td>\n",
       "      <td>199523.000000</td>\n",
       "      <td>199523.000000</td>\n",
       "      <td>199523.000000</td>\n",
       "      <td>199523.000000</td>\n",
       "      <td>199523.000000</td>\n",
       "      <td>199523.000000</td>\n",
       "    </tr>\n",
       "    <tr>\n",
       "      <th>mean</th>\n",
       "      <td>99761.000000</td>\n",
       "      <td>0.014660</td>\n",
       "      <td>0.039013</td>\n",
       "      <td>0.002200</td>\n",
       "      <td>0.502423</td>\n",
       "      <td>0.361001</td>\n",
       "      <td>0.016364</td>\n",
       "      <td>0.042326</td>\n",
       "      <td>0.021186</td>\n",
       "      <td>0.000827</td>\n",
       "      <td>...</td>\n",
       "      <td>0.009438</td>\n",
       "      <td>0.064013</td>\n",
       "      <td>0.008285</td>\n",
       "      <td>0.722884</td>\n",
       "      <td>0.029345</td>\n",
       "      <td>0.008801</td>\n",
       "      <td>0.007613</td>\n",
       "      <td>0.887076</td>\n",
       "      <td>0.990056</td>\n",
       "      <td>0.001960</td>\n",
       "    </tr>\n",
       "    <tr>\n",
       "      <th>std</th>\n",
       "      <td>57597.473217</td>\n",
       "      <td>0.120188</td>\n",
       "      <td>0.193626</td>\n",
       "      <td>0.046855</td>\n",
       "      <td>0.499995</td>\n",
       "      <td>0.480292</td>\n",
       "      <td>0.126871</td>\n",
       "      <td>0.201332</td>\n",
       "      <td>0.144003</td>\n",
       "      <td>0.028745</td>\n",
       "      <td>...</td>\n",
       "      <td>0.096688</td>\n",
       "      <td>0.244776</td>\n",
       "      <td>0.090643</td>\n",
       "      <td>0.447575</td>\n",
       "      <td>0.168772</td>\n",
       "      <td>0.093400</td>\n",
       "      <td>0.086921</td>\n",
       "      <td>0.316501</td>\n",
       "      <td>0.099221</td>\n",
       "      <td>0.044225</td>\n",
       "    </tr>\n",
       "    <tr>\n",
       "      <th>min</th>\n",
       "      <td>0.000000</td>\n",
       "      <td>0.000000</td>\n",
       "      <td>0.000000</td>\n",
       "      <td>0.000000</td>\n",
       "      <td>0.000000</td>\n",
       "      <td>0.000000</td>\n",
       "      <td>0.000000</td>\n",
       "      <td>0.000000</td>\n",
       "      <td>0.000000</td>\n",
       "      <td>0.000000</td>\n",
       "      <td>...</td>\n",
       "      <td>0.000000</td>\n",
       "      <td>0.000000</td>\n",
       "      <td>0.000000</td>\n",
       "      <td>0.000000</td>\n",
       "      <td>0.000000</td>\n",
       "      <td>0.000000</td>\n",
       "      <td>0.000000</td>\n",
       "      <td>0.000000</td>\n",
       "      <td>0.000000</td>\n",
       "      <td>0.000000</td>\n",
       "    </tr>\n",
       "    <tr>\n",
       "      <th>25%</th>\n",
       "      <td>49880.500000</td>\n",
       "      <td>0.000000</td>\n",
       "      <td>0.000000</td>\n",
       "      <td>0.000000</td>\n",
       "      <td>0.000000</td>\n",
       "      <td>0.000000</td>\n",
       "      <td>0.000000</td>\n",
       "      <td>0.000000</td>\n",
       "      <td>0.000000</td>\n",
       "      <td>0.000000</td>\n",
       "      <td>...</td>\n",
       "      <td>0.000000</td>\n",
       "      <td>0.000000</td>\n",
       "      <td>0.000000</td>\n",
       "      <td>0.000000</td>\n",
       "      <td>0.000000</td>\n",
       "      <td>0.000000</td>\n",
       "      <td>0.000000</td>\n",
       "      <td>1.000000</td>\n",
       "      <td>1.000000</td>\n",
       "      <td>0.000000</td>\n",
       "    </tr>\n",
       "    <tr>\n",
       "      <th>50%</th>\n",
       "      <td>99761.000000</td>\n",
       "      <td>0.000000</td>\n",
       "      <td>0.000000</td>\n",
       "      <td>0.000000</td>\n",
       "      <td>1.000000</td>\n",
       "      <td>0.000000</td>\n",
       "      <td>0.000000</td>\n",
       "      <td>0.000000</td>\n",
       "      <td>0.000000</td>\n",
       "      <td>0.000000</td>\n",
       "      <td>...</td>\n",
       "      <td>0.000000</td>\n",
       "      <td>0.000000</td>\n",
       "      <td>0.000000</td>\n",
       "      <td>1.000000</td>\n",
       "      <td>0.000000</td>\n",
       "      <td>0.000000</td>\n",
       "      <td>0.000000</td>\n",
       "      <td>1.000000</td>\n",
       "      <td>1.000000</td>\n",
       "      <td>0.000000</td>\n",
       "    </tr>\n",
       "    <tr>\n",
       "      <th>75%</th>\n",
       "      <td>149641.500000</td>\n",
       "      <td>0.000000</td>\n",
       "      <td>0.000000</td>\n",
       "      <td>0.000000</td>\n",
       "      <td>1.000000</td>\n",
       "      <td>1.000000</td>\n",
       "      <td>0.000000</td>\n",
       "      <td>0.000000</td>\n",
       "      <td>0.000000</td>\n",
       "      <td>0.000000</td>\n",
       "      <td>...</td>\n",
       "      <td>0.000000</td>\n",
       "      <td>0.000000</td>\n",
       "      <td>0.000000</td>\n",
       "      <td>1.000000</td>\n",
       "      <td>0.000000</td>\n",
       "      <td>0.000000</td>\n",
       "      <td>0.000000</td>\n",
       "      <td>1.000000</td>\n",
       "      <td>1.000000</td>\n",
       "      <td>0.000000</td>\n",
       "    </tr>\n",
       "    <tr>\n",
       "      <th>max</th>\n",
       "      <td>199522.000000</td>\n",
       "      <td>1.000000</td>\n",
       "      <td>1.000000</td>\n",
       "      <td>1.000000</td>\n",
       "      <td>1.000000</td>\n",
       "      <td>1.000000</td>\n",
       "      <td>1.000000</td>\n",
       "      <td>1.000000</td>\n",
       "      <td>1.000000</td>\n",
       "      <td>1.000000</td>\n",
       "      <td>...</td>\n",
       "      <td>1.000000</td>\n",
       "      <td>1.000000</td>\n",
       "      <td>1.000000</td>\n",
       "      <td>1.000000</td>\n",
       "      <td>1.000000</td>\n",
       "      <td>1.000000</td>\n",
       "      <td>1.000000</td>\n",
       "      <td>1.000000</td>\n",
       "      <td>1.000000</td>\n",
       "      <td>1.000000</td>\n",
       "    </tr>\n",
       "  </tbody>\n",
       "</table>\n",
       "<p>8 rows × 113 columns</p>\n",
       "</div>"
      ],
      "text/plain": [
       "          Unnamed: 0  Federal government  Local government   Never worked  \\\n",
       "count  199523.000000       199523.000000     199523.000000  199523.000000   \n",
       "mean    99761.000000            0.014660          0.039013       0.002200   \n",
       "std     57597.473217            0.120188          0.193626       0.046855   \n",
       "min         0.000000            0.000000          0.000000       0.000000   \n",
       "25%     49880.500000            0.000000          0.000000       0.000000   \n",
       "50%     99761.000000            0.000000          0.000000       0.000000   \n",
       "75%    149641.500000            0.000000          0.000000       0.000000   \n",
       "max    199522.000000            1.000000          1.000000       1.000000   \n",
       "\n",
       "       Not in universe        Private  Self-employed-incorporated  \\\n",
       "count    199523.000000  199523.000000               199523.000000   \n",
       "mean          0.502423       0.361001                    0.016364   \n",
       "std           0.499995       0.480292                    0.126871   \n",
       "min           0.000000       0.000000                    0.000000   \n",
       "25%           0.000000       0.000000                    0.000000   \n",
       "50%           1.000000       0.000000                    0.000000   \n",
       "75%           1.000000       1.000000                    0.000000   \n",
       "max           1.000000       1.000000                    1.000000   \n",
       "\n",
       "       Self-employed-not incorporated  State government    Without pay  ...  \\\n",
       "count                   199523.000000     199523.000000  199523.000000  ...   \n",
       "mean                         0.042326          0.021186       0.000827  ...   \n",
       "std                          0.201332          0.144003       0.028745  ...   \n",
       "min                          0.000000          0.000000       0.000000  ...   \n",
       "25%                          0.000000          0.000000       0.000000  ...   \n",
       "50%                          0.000000          0.000000       0.000000  ...   \n",
       "75%                          0.000000          0.000000       0.000000  ...   \n",
       "max                          1.000000          1.000000       1.000000  ...   \n",
       "\n",
       "       family_members_under_18_Father only present  \\\n",
       "count                                199523.000000   \n",
       "mean                                      0.009438   \n",
       "std                                       0.096688   \n",
       "min                                       0.000000   \n",
       "25%                                       0.000000   \n",
       "50%                                       0.000000   \n",
       "75%                                       0.000000   \n",
       "max                                       1.000000   \n",
       "\n",
       "       family_members_under_18_Mother only present  \\\n",
       "count                                199523.000000   \n",
       "mean                                      0.064013   \n",
       "std                                       0.244776   \n",
       "min                                       0.000000   \n",
       "25%                                       0.000000   \n",
       "50%                                       0.000000   \n",
       "75%                                       0.000000   \n",
       "max                                       1.000000   \n",
       "\n",
       "       family_members_under_18_Neither parent present  \\\n",
       "count                                   199523.000000   \n",
       "mean                                         0.008285   \n",
       "std                                          0.090643   \n",
       "min                                          0.000000   \n",
       "25%                                          0.000000   \n",
       "50%                                          0.000000   \n",
       "75%                                          0.000000   \n",
       "max                                          1.000000   \n",
       "\n",
       "       family_members_under_18_Not in universe  \\\n",
       "count                            199523.000000   \n",
       "mean                                  0.722884   \n",
       "std                                   0.447575   \n",
       "min                                   0.000000   \n",
       "25%                                   0.000000   \n",
       "50%                                   1.000000   \n",
       "75%                                   1.000000   \n",
       "max                                   1.000000   \n",
       "\n",
       "       citizenship_Foreign born- U S citizen by naturalization  \\\n",
       "count                                      199523.000000         \n",
       "mean                                            0.029345         \n",
       "std                                             0.168772         \n",
       "min                                             0.000000         \n",
       "25%                                             0.000000         \n",
       "50%                                             0.000000         \n",
       "75%                                             0.000000         \n",
       "max                                             1.000000         \n",
       "\n",
       "       citizenship_Native- Born abroad of American Parent(s)  \\\n",
       "count                                      199523.000000       \n",
       "mean                                            0.008801       \n",
       "std                                             0.093400       \n",
       "min                                             0.000000       \n",
       "25%                                             0.000000       \n",
       "50%                                             0.000000       \n",
       "75%                                             0.000000       \n",
       "max                                             1.000000       \n",
       "\n",
       "       citizenship_Native- Born in Puerto Rico or U S Outlying  \\\n",
       "count                                      199523.000000         \n",
       "mean                                            0.007613         \n",
       "std                                             0.086921         \n",
       "min                                             0.000000         \n",
       "25%                                             0.000000         \n",
       "50%                                             0.000000         \n",
       "75%                                             0.000000         \n",
       "max                                             1.000000         \n",
       "\n",
       "       citizenship_Native- Born in the United States  \\\n",
       "count                                  199523.000000   \n",
       "mean                                        0.887076   \n",
       "std                                         0.316501   \n",
       "min                                         0.000000   \n",
       "25%                                         1.000000   \n",
       "50%                                         1.000000   \n",
       "75%                                         1.000000   \n",
       "max                                         1.000000   \n",
       "\n",
       "       fill_questionnaire_veteran_admin_Not in universe  \\\n",
       "count                                     199523.000000   \n",
       "mean                                           0.990056   \n",
       "std                                            0.099221   \n",
       "min                                            0.000000   \n",
       "25%                                            1.000000   \n",
       "50%                                            1.000000   \n",
       "75%                                            1.000000   \n",
       "max                                            1.000000   \n",
       "\n",
       "       fill_questionnaire_veteran_admin_Yes  \n",
       "count                         199523.000000  \n",
       "mean                               0.001960  \n",
       "std                                0.044225  \n",
       "min                                0.000000  \n",
       "25%                                0.000000  \n",
       "50%                                0.000000  \n",
       "75%                                0.000000  \n",
       "max                                1.000000  \n",
       "\n",
       "[8 rows x 113 columns]"
      ]
     },
     "execution_count": 8,
     "metadata": {},
     "output_type": "execute_result"
    }
   ],
   "source": [
    "df_pre_process.describe()"
   ]
  },
  {
   "cell_type": "code",
   "execution_count": 10,
   "metadata": {},
   "outputs": [],
   "source": [
    "from sklearn.ensemble import RandomForestClassifier\n",
    "from sklearn.feature_selection import SelectFromModel"
   ]
  },
  {
   "cell_type": "code",
   "execution_count": 11,
   "metadata": {},
   "outputs": [],
   "source": [
    "from sklearn.model_selection import train_test_split"
   ]
  },
  {
   "cell_type": "code",
   "execution_count": 113,
   "metadata": {},
   "outputs": [],
   "source": [
    "X_train,X_test,y_train,y_test=train_test_split(X,y,test_size=0.3)"
   ]
  },
  {
   "cell_type": "code",
   "execution_count": 114,
   "metadata": {},
   "outputs": [],
   "source": [
    "feature_selection=SelectFromModel(RandomForestClassifier(n_estimators=100))"
   ]
  },
  {
   "cell_type": "code",
   "execution_count": 115,
   "metadata": {},
   "outputs": [
    {
     "data": {
      "text/plain": [
       "SelectFromModel(estimator=RandomForestClassifier())"
      ]
     },
     "execution_count": 115,
     "metadata": {},
     "output_type": "execute_result"
    }
   ],
   "source": [
    "feature_selection.fit(X_train,y_train)"
   ]
  },
  {
   "cell_type": "code",
   "execution_count": 49,
   "metadata": {},
   "outputs": [
    {
     "data": {
      "text/plain": [
       "25"
      ]
     },
     "execution_count": 49,
     "metadata": {},
     "output_type": "execute_result"
    }
   ],
   "source": [
    "selected_feat= X_train.columns[(feature_selection.get_support())]\n",
    "len(selected_feat)\n"
   ]
  },
  {
   "cell_type": "code",
   "execution_count": 50,
   "metadata": {},
   "outputs": [
    {
     "data": {
      "text/plain": [
       "Index([                             'weeks_worked_in_year',\n",
       "                               'business_or_self_employed',\n",
       "                                                     'age',\n",
       "                                    'dividend_from_Stocks',\n",
       "                                           'wage_per_hour',\n",
       "                                          'capital_losses',\n",
       "                              'num_person_Worked_employer',\n",
       "                                           'capital_gains',\n",
       "                                              'Unnamed: 0',\n",
       "                                                 'Private',\n",
       "                                               'education',\n",
       "                                   'major_occupation_code',\n",
       "                                     'major_industry_code',\n",
       "                                          'country_father',\n",
       "                                          'country_mother',\n",
       "                                 'd_household_family_stat',\n",
       "                                           'industry_code',\n",
       "                                         'occupation_code',\n",
       "                                                         0,\n",
       "          'marital_status_Married-civilian spouse present',\n",
       "                                                'sex_Male',\n",
       "                   'member_of_labor_union_Not in universe',\n",
       "                    'tax_filer_status_Joint both under 65',\n",
       "       'full_parttime_employment_stat_Full-time schedules',\n",
       "                         'd_household_summary_Householder'],\n",
       "      dtype='object')"
      ]
     },
     "execution_count": 50,
     "metadata": {},
     "output_type": "execute_result"
    }
   ],
   "source": [
    "selected_feat"
   ]
  },
  {
   "cell_type": "code",
   "execution_count": 52,
   "metadata": {},
   "outputs": [],
   "source": [
    "model=RandomForestClassifier()"
   ]
  },
  {
   "cell_type": "code",
   "execution_count": 116,
   "metadata": {},
   "outputs": [
    {
     "data": {
      "text/plain": [
       "RandomForestClassifier()"
      ]
     },
     "execution_count": 116,
     "metadata": {},
     "output_type": "execute_result"
    }
   ],
   "source": [
    "model.fit(X_train,y_train)"
   ]
  },
  {
   "cell_type": "code",
   "execution_count": 117,
   "metadata": {},
   "outputs": [],
   "source": [
    "y_pred=model.predict(X_test)"
   ]
  },
  {
   "cell_type": "code",
   "execution_count": 57,
   "metadata": {},
   "outputs": [],
   "source": [
    "from sklearn.metrics import accuracy_score"
   ]
  },
  {
   "cell_type": "code",
   "execution_count": 118,
   "metadata": {},
   "outputs": [
    {
     "data": {
      "text/plain": [
       "0.9530046611089764"
      ]
     },
     "execution_count": 118,
     "metadata": {},
     "output_type": "execute_result"
    }
   ],
   "source": [
    "accuracy_score(y_pred,y_test)"
   ]
  },
  {
   "cell_type": "code",
   "execution_count": null,
   "metadata": {},
   "outputs": [],
   "source": [
    "0.9518352072439313"
   ]
  },
  {
   "cell_type": "code",
   "execution_count": 39,
   "metadata": {},
   "outputs": [],
   "source": [
    "X= df_pre_processed.drop(['income_level'],axis=1)"
   ]
  },
  {
   "cell_type": "code",
   "execution_count": 42,
   "metadata": {},
   "outputs": [],
   "source": [
    "y=df_pre_processed['income_level']"
   ]
  },
  {
   "cell_type": "code",
   "execution_count": 32,
   "metadata": {},
   "outputs": [
    {
     "data": {
      "text/plain": [
       "10"
      ]
     },
     "execution_count": 32,
     "metadata": {},
     "output_type": "execute_result"
    }
   ],
   "source": [
    "df_pre_processed.columns.get_loc(\"income_level\")"
   ]
  },
  {
   "cell_type": "code",
   "execution_count": 43,
   "metadata": {},
   "outputs": [
    {
     "data": {
      "text/plain": [
       "0   -50000\n",
       "1   -50000\n",
       "2   -50000\n",
       "3   -50000\n",
       "4   -50000\n",
       "Name: income_level, dtype: int64"
      ]
     },
     "execution_count": 43,
     "metadata": {},
     "output_type": "execute_result"
    }
   ],
   "source": [
    "y.head()"
   ]
  },
  {
   "cell_type": "code",
   "execution_count": 60,
   "metadata": {},
   "outputs": [],
   "source": [
    "predicting_features=df_pre_processed[['weeks_worked_in_year','business_or_self_employed','age',\n",
    "                                    'dividend_from_Stocks',\n",
    "                                           'wage_per_hour',\n",
    "                                          'capital_losses',\n",
    "                              'num_person_Worked_employer',\n",
    "                                           'capital_gains',\n",
    "                                              'Unnamed: 0',\n",
    "                                                 'Private',\n",
    "                                               'education',\n",
    "                                   'major_occupation_code',\n",
    "                                     'major_industry_code',\n",
    "                                          'country_father',\n",
    "                                          'country_mother',\n",
    "                                 'd_household_family_stat',\n",
    "                                           'industry_code',\n",
    "                                         'occupation_code',\n",
    "                                                         0,\n",
    "          'marital_status_Married-civilian spouse present',\n",
    "                                                'sex_Male',\n",
    "                   'member_of_labor_union_Not in universe',\n",
    "                    'tax_filer_status_Joint both under 65',\n",
    "       'full_parttime_employment_stat_Full-time schedules',\n",
    "                         'd_household_summary_Householder']]"
   ]
  },
  {
   "cell_type": "markdown",
   "metadata": {},
   "source": [
    "Only with 5 features"
   ]
  },
  {
   "cell_type": "code",
   "execution_count": 103,
   "metadata": {},
   "outputs": [],
   "source": [
    "X1=predicting_features.iloc[:,0:6]"
   ]
  },
  {
   "cell_type": "code",
   "execution_count": 89,
   "metadata": {},
   "outputs": [
    {
     "data": {
      "text/plain": [
       "(199523, 6)"
      ]
     },
     "execution_count": 89,
     "metadata": {},
     "output_type": "execute_result"
    }
   ],
   "source": [
    "X1.shape"
   ]
  },
  {
   "cell_type": "code",
   "execution_count": 90,
   "metadata": {},
   "outputs": [],
   "source": [
    "y1=df_pre_processed['income_level']"
   ]
  },
  {
   "cell_type": "code",
   "execution_count": 91,
   "metadata": {},
   "outputs": [
    {
     "data": {
      "text/plain": [
       "(199523,)"
      ]
     },
     "execution_count": 91,
     "metadata": {},
     "output_type": "execute_result"
    }
   ],
   "source": [
    "y1.shape"
   ]
  },
  {
   "cell_type": "code",
   "execution_count": 104,
   "metadata": {},
   "outputs": [],
   "source": [
    "X1_train,X1_test,y1_train,y1_test=train_test_split(X1,y1,test_size=0.3)"
   ]
  },
  {
   "cell_type": "code",
   "execution_count": 105,
   "metadata": {},
   "outputs": [],
   "source": [
    "model1=RandomForestClassifier()"
   ]
  },
  {
   "cell_type": "code",
   "execution_count": 106,
   "metadata": {},
   "outputs": [
    {
     "data": {
      "text/plain": [
       "RandomForestClassifier()"
      ]
     },
     "execution_count": 106,
     "metadata": {},
     "output_type": "execute_result"
    }
   ],
   "source": [
    "model1.fit(X1_train,y1_train)"
   ]
  },
  {
   "cell_type": "code",
   "execution_count": 107,
   "metadata": {},
   "outputs": [],
   "source": [
    "y1_pred=model1.predict(X1_test)"
   ]
  },
  {
   "cell_type": "code",
   "execution_count": 108,
   "metadata": {},
   "outputs": [
    {
     "data": {
      "text/plain": [
       "0.9369330237065004"
      ]
     },
     "execution_count": 108,
     "metadata": {},
     "output_type": "execute_result"
    }
   ],
   "source": [
    "accuracy_score(y1_pred,y1_test)"
   ]
  },
  {
   "cell_type": "code",
   "execution_count": 102,
   "metadata": {},
   "outputs": [
    {
     "data": {
      "text/plain": [
       "0.942379337420853"
      ]
     },
     "execution_count": 102,
     "metadata": {},
     "output_type": "execute_result"
    }
   ],
   "source": [
    "X2=predicting_features.iloc[:,0:11]\n",
    "y2=df_pre_processed['income_level']\n",
    "X2_train,X2_test,y2_train,y2_test=train_test_split(X2,y2,test_size=0.3)\n",
    "model1.fit(X2_train,y2_train)\n",
    "y2_pred=model1.predict(X2_test)\n",
    "accuracy_score(y2_pred,y2_test)"
   ]
  },
  {
   "cell_type": "code",
   "execution_count": 101,
   "metadata": {},
   "outputs": [
    {
     "data": {
      "text/plain": [
       "0.9478590641027783"
      ]
     },
     "execution_count": 101,
     "metadata": {},
     "output_type": "execute_result"
    }
   ],
   "source": [
    "X3=predicting_features.iloc[:,0:16]\n",
    "y3=df_pre_processed['income_level']\n",
    "X3_train,X3_test,y3_train,y3_test=train_test_split(X3,y3,test_size=0.3)\n",
    "model1.fit(X3_train,y3_train)\n",
    "y3_pred=model1.predict(X3_test)\n",
    "accuracy_score(y3_pred,y3_test)"
   ]
  },
  {
   "cell_type": "code",
   "execution_count": 109,
   "metadata": {},
   "outputs": [
    {
     "data": {
      "text/plain": [
       "0.9510165895383998"
      ]
     },
     "execution_count": 109,
     "metadata": {},
     "output_type": "execute_result"
    }
   ],
   "source": [
    "X4=predicting_features.iloc[:,0:21]\n",
    "y4=df_pre_processed['income_level']\n",
    "X4_train,X4_test,y4_train,y4_test=train_test_split(X4,y4,test_size=0.3)\n",
    "model1.fit(X4_train,y4_train)\n",
    "y4_pred=model1.predict(X4_test)\n",
    "accuracy_score(y4_pred,y4_test)"
   ]
  },
  {
   "cell_type": "code",
   "execution_count": 110,
   "metadata": {},
   "outputs": [
    {
     "data": {
      "text/plain": [
       "0.9518352072439313"
      ]
     },
     "execution_count": 110,
     "metadata": {},
     "output_type": "execute_result"
    }
   ],
   "source": [
    "X5=predicting_features.iloc[:,0:26]\n",
    "y5=df_pre_processed['income_level']\n",
    "X5_train,X5_test,y5_train,y5_test=train_test_split(X5,y5,test_size=0.3)\n",
    "model1.fit(X5_train,y5_train)\n",
    "y5_pred=model1.predict(X5_test)\n",
    "accuracy_score(y5_pred,y5_test)"
   ]
  },
  {
   "cell_type": "code",
   "execution_count": 17,
   "metadata": {},
   "outputs": [],
   "source": [
    "import pandas as pd\n",
    "cleaned_income_data=pd.read_excel(r'C:\\Users\\mural\\Desktop\\Jaivinayaka\\misslenious\\income_data.xlsx',index_col=0)\n",
    "# cleaned_income_data.head()"
   ]
  },
  {
   "cell_type": "code",
   "execution_count": 18,
   "metadata": {},
   "outputs": [],
   "source": [
    "df_int_columns=cleaned_income_data[['weeks_worked_in_year', 'business_or_self_employed', 'age', 'dividend_from_Stocks','year', 'wage_per_hour',\n",
    " 'capital_losses',\n",
    " 'num_person_Worked_employer',\n",
    " 'capital_gains',\n",
    " 'veterans_benefits',\n",
    " 'income_level']]"
   ]
  },
  {
   "cell_type": "code",
   "execution_count": 20,
   "metadata": {},
   "outputs": [],
   "source": [
    "df_pre_processed=pd.concat([df_int_columns,df_pre_process],axis=1)"
   ]
  },
  {
   "cell_type": "code",
   "execution_count": 21,
   "metadata": {},
   "outputs": [
    {
     "data": {
      "text/html": [
       "<div>\n",
       "<style scoped>\n",
       "    .dataframe tbody tr th:only-of-type {\n",
       "        vertical-align: middle;\n",
       "    }\n",
       "\n",
       "    .dataframe tbody tr th {\n",
       "        vertical-align: top;\n",
       "    }\n",
       "\n",
       "    .dataframe thead th {\n",
       "        text-align: right;\n",
       "    }\n",
       "</style>\n",
       "<table border=\"1\" class=\"dataframe\">\n",
       "  <thead>\n",
       "    <tr style=\"text-align: right;\">\n",
       "      <th></th>\n",
       "      <th>weeks_worked_in_year</th>\n",
       "      <th>business_or_self_employed</th>\n",
       "      <th>age</th>\n",
       "      <th>dividend_from_Stocks</th>\n",
       "      <th>year</th>\n",
       "      <th>wage_per_hour</th>\n",
       "      <th>capital_losses</th>\n",
       "      <th>num_person_Worked_employer</th>\n",
       "      <th>capital_gains</th>\n",
       "      <th>veterans_benefits</th>\n",
       "      <th>...</th>\n",
       "      <th>family_members_under_18_Father only present</th>\n",
       "      <th>family_members_under_18_Mother only present</th>\n",
       "      <th>family_members_under_18_Neither parent present</th>\n",
       "      <th>family_members_under_18_Not in universe</th>\n",
       "      <th>citizenship_Foreign born- U S citizen by naturalization</th>\n",
       "      <th>citizenship_Native- Born abroad of American Parent(s)</th>\n",
       "      <th>citizenship_Native- Born in Puerto Rico or U S Outlying</th>\n",
       "      <th>citizenship_Native- Born in the United States</th>\n",
       "      <th>fill_questionnaire_veteran_admin_Not in universe</th>\n",
       "      <th>fill_questionnaire_veteran_admin_Yes</th>\n",
       "    </tr>\n",
       "  </thead>\n",
       "  <tbody>\n",
       "    <tr>\n",
       "      <th>0</th>\n",
       "      <td>0</td>\n",
       "      <td>0</td>\n",
       "      <td>73</td>\n",
       "      <td>0</td>\n",
       "      <td>95</td>\n",
       "      <td>0</td>\n",
       "      <td>0</td>\n",
       "      <td>0</td>\n",
       "      <td>0</td>\n",
       "      <td>2</td>\n",
       "      <td>...</td>\n",
       "      <td>0</td>\n",
       "      <td>0</td>\n",
       "      <td>0</td>\n",
       "      <td>1</td>\n",
       "      <td>0</td>\n",
       "      <td>0</td>\n",
       "      <td>0</td>\n",
       "      <td>1</td>\n",
       "      <td>1</td>\n",
       "      <td>0</td>\n",
       "    </tr>\n",
       "    <tr>\n",
       "      <th>1</th>\n",
       "      <td>52</td>\n",
       "      <td>0</td>\n",
       "      <td>58</td>\n",
       "      <td>0</td>\n",
       "      <td>94</td>\n",
       "      <td>0</td>\n",
       "      <td>0</td>\n",
       "      <td>1</td>\n",
       "      <td>0</td>\n",
       "      <td>2</td>\n",
       "      <td>...</td>\n",
       "      <td>0</td>\n",
       "      <td>0</td>\n",
       "      <td>0</td>\n",
       "      <td>1</td>\n",
       "      <td>0</td>\n",
       "      <td>0</td>\n",
       "      <td>0</td>\n",
       "      <td>1</td>\n",
       "      <td>1</td>\n",
       "      <td>0</td>\n",
       "    </tr>\n",
       "    <tr>\n",
       "      <th>2</th>\n",
       "      <td>0</td>\n",
       "      <td>0</td>\n",
       "      <td>18</td>\n",
       "      <td>0</td>\n",
       "      <td>95</td>\n",
       "      <td>0</td>\n",
       "      <td>0</td>\n",
       "      <td>0</td>\n",
       "      <td>0</td>\n",
       "      <td>2</td>\n",
       "      <td>...</td>\n",
       "      <td>0</td>\n",
       "      <td>0</td>\n",
       "      <td>0</td>\n",
       "      <td>1</td>\n",
       "      <td>0</td>\n",
       "      <td>0</td>\n",
       "      <td>0</td>\n",
       "      <td>0</td>\n",
       "      <td>1</td>\n",
       "      <td>0</td>\n",
       "    </tr>\n",
       "    <tr>\n",
       "      <th>3</th>\n",
       "      <td>0</td>\n",
       "      <td>0</td>\n",
       "      <td>9</td>\n",
       "      <td>0</td>\n",
       "      <td>94</td>\n",
       "      <td>0</td>\n",
       "      <td>0</td>\n",
       "      <td>0</td>\n",
       "      <td>0</td>\n",
       "      <td>0</td>\n",
       "      <td>...</td>\n",
       "      <td>0</td>\n",
       "      <td>0</td>\n",
       "      <td>0</td>\n",
       "      <td>0</td>\n",
       "      <td>0</td>\n",
       "      <td>0</td>\n",
       "      <td>0</td>\n",
       "      <td>1</td>\n",
       "      <td>1</td>\n",
       "      <td>0</td>\n",
       "    </tr>\n",
       "    <tr>\n",
       "      <th>4</th>\n",
       "      <td>0</td>\n",
       "      <td>0</td>\n",
       "      <td>10</td>\n",
       "      <td>0</td>\n",
       "      <td>94</td>\n",
       "      <td>0</td>\n",
       "      <td>0</td>\n",
       "      <td>0</td>\n",
       "      <td>0</td>\n",
       "      <td>0</td>\n",
       "      <td>...</td>\n",
       "      <td>0</td>\n",
       "      <td>0</td>\n",
       "      <td>0</td>\n",
       "      <td>0</td>\n",
       "      <td>0</td>\n",
       "      <td>0</td>\n",
       "      <td>0</td>\n",
       "      <td>1</td>\n",
       "      <td>1</td>\n",
       "      <td>0</td>\n",
       "    </tr>\n",
       "  </tbody>\n",
       "</table>\n",
       "<p>5 rows × 124 columns</p>\n",
       "</div>"
      ],
      "text/plain": [
       "   weeks_worked_in_year  business_or_self_employed  age  dividend_from_Stocks  \\\n",
       "0                     0                          0   73                     0   \n",
       "1                    52                          0   58                     0   \n",
       "2                     0                          0   18                     0   \n",
       "3                     0                          0    9                     0   \n",
       "4                     0                          0   10                     0   \n",
       "\n",
       "   year  wage_per_hour  capital_losses  num_person_Worked_employer  \\\n",
       "0    95              0               0                           0   \n",
       "1    94              0               0                           1   \n",
       "2    95              0               0                           0   \n",
       "3    94              0               0                           0   \n",
       "4    94              0               0                           0   \n",
       "\n",
       "   capital_gains  veterans_benefits  ...  \\\n",
       "0              0                  2  ...   \n",
       "1              0                  2  ...   \n",
       "2              0                  2  ...   \n",
       "3              0                  0  ...   \n",
       "4              0                  0  ...   \n",
       "\n",
       "   family_members_under_18_Father only present  \\\n",
       "0                                            0   \n",
       "1                                            0   \n",
       "2                                            0   \n",
       "3                                            0   \n",
       "4                                            0   \n",
       "\n",
       "   family_members_under_18_Mother only present  \\\n",
       "0                                            0   \n",
       "1                                            0   \n",
       "2                                            0   \n",
       "3                                            0   \n",
       "4                                            0   \n",
       "\n",
       "   family_members_under_18_Neither parent present  \\\n",
       "0                                               0   \n",
       "1                                               0   \n",
       "2                                               0   \n",
       "3                                               0   \n",
       "4                                               0   \n",
       "\n",
       "   family_members_under_18_Not in universe  \\\n",
       "0                                        1   \n",
       "1                                        1   \n",
       "2                                        1   \n",
       "3                                        0   \n",
       "4                                        0   \n",
       "\n",
       "   citizenship_Foreign born- U S citizen by naturalization  \\\n",
       "0                                                  0         \n",
       "1                                                  0         \n",
       "2                                                  0         \n",
       "3                                                  0         \n",
       "4                                                  0         \n",
       "\n",
       "   citizenship_Native- Born abroad of American Parent(s)  \\\n",
       "0                                                  0       \n",
       "1                                                  0       \n",
       "2                                                  0       \n",
       "3                                                  0       \n",
       "4                                                  0       \n",
       "\n",
       "   citizenship_Native- Born in Puerto Rico or U S Outlying  \\\n",
       "0                                                  0         \n",
       "1                                                  0         \n",
       "2                                                  0         \n",
       "3                                                  0         \n",
       "4                                                  0         \n",
       "\n",
       "   citizenship_Native- Born in the United States  \\\n",
       "0                                              1   \n",
       "1                                              1   \n",
       "2                                              0   \n",
       "3                                              1   \n",
       "4                                              1   \n",
       "\n",
       "   fill_questionnaire_veteran_admin_Not in universe  \\\n",
       "0                                                 1   \n",
       "1                                                 1   \n",
       "2                                                 1   \n",
       "3                                                 1   \n",
       "4                                                 1   \n",
       "\n",
       "   fill_questionnaire_veteran_admin_Yes  \n",
       "0                                     0  \n",
       "1                                     0  \n",
       "2                                     0  \n",
       "3                                     0  \n",
       "4                                     0  \n",
       "\n",
       "[5 rows x 124 columns]"
      ]
     },
     "execution_count": 21,
     "metadata": {},
     "output_type": "execute_result"
    }
   ],
   "source": [
    "df_pre_processed.head()"
   ]
  },
  {
   "cell_type": "markdown",
   "metadata": {},
   "source": [
    "XGBoost Classifier"
   ]
  },
  {
   "cell_type": "code",
   "execution_count": 129,
   "metadata": {},
   "outputs": [
    {
     "name": "stdout",
     "output_type": "stream",
     "text": [
      "Collecting xgboost\n",
      "  Downloading xgboost-1.2.1-py3-none-win_amd64.whl (86.5 MB)\n",
      "Requirement already satisfied: numpy in c:\\users\\mural\\anaconda3\\lib\\site-packages (from xgboost) (1.18.5)\n",
      "Requirement already satisfied: scipy in c:\\users\\mural\\anaconda3\\lib\\site-packages (from xgboost) (1.5.0)\n",
      "Installing collected packages: xgboost\n",
      "Successfully installed xgboost-1.2.1\n",
      "Note: you may need to restart the kernel to use updated packages.\n"
     ]
    }
   ],
   "source": [
    "pip install xgboost"
   ]
  },
  {
   "cell_type": "code",
   "execution_count": 130,
   "metadata": {},
   "outputs": [],
   "source": [
    "\n",
    "from xgboost import XGBClassifier"
   ]
  },
  {
   "cell_type": "code",
   "execution_count": 133,
   "metadata": {},
   "outputs": [
    {
     "data": {
      "text/plain": [
       "0.9412767094909534"
      ]
     },
     "execution_count": 133,
     "metadata": {},
     "output_type": "execute_result"
    }
   ],
   "source": [
    "Xg1=predicting_features.iloc[:,0:6]\n",
    "yg1=df_pre_processed['income_level']\n",
    "X1_train,X1_test,y1_train,y1_test=train_test_split(Xg1,yg1,test_size=0.3)\n",
    "model1=XGBClassifier()\n",
    "model1.fit(X1_train,y1_train)\n",
    "y1_pred=model1.predict(X1_test)\n",
    "accuracy_score(y1_pred,y1_test)"
   ]
  },
  {
   "cell_type": "code",
   "execution_count": 136,
   "metadata": {},
   "outputs": [
    {
     "data": {
      "text/plain": [
       "0.949061930935396"
      ]
     },
     "execution_count": 136,
     "metadata": {},
     "output_type": "execute_result"
    }
   ],
   "source": [
    "Xg2=predicting_features.iloc[:,0:11]\n",
    "yg2=df_pre_processed['income_level']\n",
    "X2_train,X2_test,y2_train,y2_test=train_test_split(Xg2,yg2,test_size=0.3)\n",
    "model2=XGBClassifier()\n",
    "model2.fit(X2_train,y2_train)\n",
    "y2_pred=model2.predict(X2_test)\n",
    "accuracy_score(y2_pred,y2_test)"
   ]
  },
  {
   "cell_type": "code",
   "execution_count": 137,
   "metadata": {},
   "outputs": [
    {
     "data": {
      "text/plain": [
       "0.9515010775682042"
      ]
     },
     "execution_count": 137,
     "metadata": {},
     "output_type": "execute_result"
    }
   ],
   "source": [
    "Xg3=predicting_features.iloc[:,0:16]\n",
    "yg3=df_pre_processed['income_level']\n",
    "X3_train,X3_test,y3_train,y3_test=train_test_split(Xg3,yg3,test_size=0.3)\n",
    "model3=XGBClassifier()\n",
    "model3.fit(X3_train,y3_train)\n",
    "y3_pred=model3.predict(X3_test)\n",
    "accuracy_score(y3_pred,y3_test)"
   ]
  },
  {
   "cell_type": "code",
   "execution_count": 138,
   "metadata": {},
   "outputs": [
    {
     "data": {
      "text/plain": [
       "0.953873398265867"
      ]
     },
     "execution_count": 138,
     "metadata": {},
     "output_type": "execute_result"
    }
   ],
   "source": [
    "Xg4=predicting_features.iloc[:,0:21]\n",
    "yg4=df_pre_processed['income_level']\n",
    "X4_train,X4_test,y4_train,y4_test=train_test_split(Xg4,yg4,test_size=0.3)\n",
    "model4=XGBClassifier()\n",
    "model4.fit(X4_train,y4_train)\n",
    "y4_pred=model4.predict(X4_test)\n",
    "accuracy_score(y4_pred,y4_test)"
   ]
  },
  {
   "cell_type": "code",
   "execution_count": 139,
   "metadata": {},
   "outputs": [
    {
     "data": {
      "text/plain": [
       "0.9538399852982943"
      ]
     },
     "execution_count": 139,
     "metadata": {},
     "output_type": "execute_result"
    }
   ],
   "source": [
    "Xg5=predicting_features.iloc[:,0:26]\n",
    "yg5=df_pre_processed['income_level']\n",
    "X5_train,X5_test,y5_train,y5_test=train_test_split(Xg5,yg5,test_size=0.3)\n",
    "model5=XGBClassifier()\n",
    "model5.fit(X5_train,y5_train)\n",
    "y5_pred=model5.predict(X5_test)\n",
    "accuracy_score(y5_pred,y5_test)"
   ]
  },
  {
   "cell_type": "code",
   "execution_count": null,
   "metadata": {},
   "outputs": [],
   "source": []
  }
 ],
 "metadata": {
  "kernelspec": {
   "display_name": "Python 3",
   "language": "python",
   "name": "python3"
  },
  "language_info": {
   "codemirror_mode": {
    "name": "ipython",
    "version": 3
   },
   "file_extension": ".py",
   "mimetype": "text/x-python",
   "name": "python",
   "nbconvert_exporter": "python",
   "pygments_lexer": "ipython3",
   "version": "3.8.3"
  }
 },
 "nbformat": 4,
 "nbformat_minor": 4
}
